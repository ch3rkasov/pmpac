{
  "nbformat": 4,
  "nbformat_minor": 0,
  "metadata": {
    "colab": {
      "name": "Al-Ca-Fe-Si_polynomial 2.0.ipynb",
      "provenance": [],
      "collapsed_sections": [],
      "mount_file_id": "1_RJdeRA5eJHaaPTxj6dIy0etxW6X5mAM",
      "authorship_tag": "ABX9TyMbuBrm1usBsZ9ubFCEIPWW",
      "include_colab_link": true
    },
    "kernelspec": {
      "name": "python3",
      "display_name": "Python 3"
    },
    "language_info": {
      "name": "python"
    }
  },
  "cells": [
    {
      "cell_type": "markdown",
      "metadata": {
        "id": "view-in-github",
        "colab_type": "text"
      },
      "source": [
        "<a href=\"https://colab.research.google.com/github/ch3rkasov/pmpac/blob/main/Al_Ca_Fe_Si_polynomial_2_0.ipynb\" target=\"_parent\"><img src=\"https://colab.research.google.com/assets/colab-badge.svg\" alt=\"Open In Colab\"/></a>"
      ]
    },
    {
      "cell_type": "markdown",
      "metadata": {
        "id": "qJ2vKbEIgfAW"
      },
      "source": [
        "# Импорт методов, загрузка и разбиение датасета"
      ]
    },
    {
      "cell_type": "markdown",
      "metadata": {
        "id": "RrNwNTEyHhhu"
      },
      "source": [
        "# Использованные библиотеки\n",
        "\n",
        "* [NumPy](https://numpy.org) –\n",
        "* [Matplotlib](https://matplotlib.org) – для построения графиков и гистограмм.\n",
        "* [Scikit-learn](https://scikit-learn.org/stable/) – [PolynomialFeatures](https://scikit-learn.org/stable/modules/generated/sklearn.preprocessing.PolynomialFeatures.html), [RandomForestRegressor](https://scikit-learn.org/stable/modules/generated/sklearn.ensemble.RandomForestRegressor.html), [KNeighborsRegressor](https://scikit-learn.org/stable/modules/generated/sklearn.neighbors.KNeighborsRegressor.html), [LinearRegression](https://scikit-learn.org/stable/modules/generated/sklearn.linear_model.LinearRegression.html), [make_pipeline](https://scikit-learn.org/stable/modules/generated/sklearn.pipeline.make_pipeline.html) для построения моделей. [train_test_split](https://scikit-learn.org/stable/modules/generated/sklearn.model_selection.train_test_split.html) для разбиения на обучающую и тестовую выборки. [r2_score](https://scikit-learn.org/stable/modules/generated/sklearn.metrics.r2_score.html) и [mean_squared_error](https://scikit-learn.org/stable/modules/generated/sklearn.metrics.mean_squared_error.html) для оценки качества предсказания. \n",
        "* [Pandas](https://https://pandas.pydata.org) – [read_csv](https://pandas.pydata.org/pandas-docs/stable/reference/api/pandas.read_csv.html) для чтения .csv файла с данными измерений. [DataFrame](https://pandas.pydata.org/pandas-docs/stable/reference/api/pandas.DataFrame.html) для работы с загруженными таблицами и вывода результатов расчетов в .xlsx файл\n",
        "* [SciPy](https://www.scipy.org) –"
      ]
    },
    {
      "cell_type": "code",
      "metadata": {
        "id": "UWkGPdSoRg_C"
      },
      "source": [
        "import numpy as np\n",
        "import matplotlib.pyplot as plt\n",
        "import pandas as pd\n",
        "from pandas import read_csv, DataFrame\n",
        "from sklearn.metrics import r2_score\n",
        "from sklearn.model_selection import train_test_split\n",
        "from sklearn.preprocessing import PolynomialFeatures\n",
        "from sklearn.ensemble import RandomForestRegressor\n",
        "from sklearn.neighbors import KNeighborsRegressor\n",
        "from sklearn.linear_model import LinearRegression\n",
        "from sklearn.pipeline import make_pipeline\n",
        "from sklearn.model_selection import cross_val_score\n",
        "from math import sqrt\n",
        "from sklearn.metrics import mean_squared_error\n",
        "import scipy.stats\n",
        "from sklearn import preprocessing\n",
        "from sklearn.model_selection import cross_validate\n",
        "\n",
        "%matplotlib inline\n",
        "import warnings\n",
        "warnings.filterwarnings('ignore')"
      ],
      "execution_count": null,
      "outputs": []
    },
    {
      "cell_type": "code",
      "metadata": {
        "id": "dzh6xx7pQo_f"
      },
      "source": [
        "def mean_confidence_interval(data, confidence=0.95):\n",
        "    a = 1.0 * np.array(data)\n",
        "    n = len(a)\n",
        "    m, se = np.mean(a), scipy.stats.sem(a)\n",
        "    h = se * scipy.stats.t.ppf((1 + confidence) / 2., n-1)\n",
        "    return h"
      ],
      "execution_count": null,
      "outputs": []
    },
    {
      "cell_type": "code",
      "metadata": {
        "id": "KC8BuSglUCGq"
      },
      "source": [
        "class ensemble():\n",
        "  def __init__(self, Models):\n",
        "    self.models = Models\n",
        "  def fit(self, Xtrain, ytrain):\n",
        "    meta_X = list()\n",
        "    for model in self.models:\n",
        "      model.fit(Xtrain, ytrain)\n",
        "      yhat = model.predict(Xtst)\n",
        "      yhat = yhat.reshape(len(yhat), 1)\n",
        "      meta_X.append(yhat)\n",
        "    meta_X = np.hstack(meta_X)\n",
        "    blender = LinearRegression()\n",
        "    blender.fit(meta_X, Ytst)\n",
        "    return blender\n",
        "  def predict(self, Xtest):\n",
        "    meta_X = list()\n",
        "    print(self.models)\n",
        "    for model in self.models:\n",
        "      yhat = model.predict(Xtest)\n",
        "      yhat = yhat.reshape(len(yhat), 1)\n",
        "      meta_X.append(yhat)\n",
        "    meta_X = np.hstack(meta_X)\n",
        "    return blender.predict(meta_X)\n",
        "  def __repr__(self):\n",
        "    return 'Ensemble()'  "
      ],
      "execution_count": null,
      "outputs": []
    },
    {
      "cell_type": "code",
      "metadata": {
        "id": "J3tzt0V0UjBa"
      },
      "source": [
        "def plot_graphs(model_name, yreal,ypredict):\n",
        "  plt.figure(figsize=(5,5))\n",
        "  plt.xlabel('True Values', fontsize=15)\n",
        "  plt.ylabel('Predictions', fontsize=15)\n",
        "  plt.scatter(yreal,ypredict)\n",
        "  plt.title(model_name)\n",
        "  plt.xlabel('True Values ')\n",
        "  plt.ylabel('Predictions ')\n",
        "  plt.axis('equal')\n",
        "  plt.axis('square')\n",
        "  _ = plt.plot([-100, 100], [-100, 100])"
      ],
      "execution_count": null,
      "outputs": []
    },
    {
      "cell_type": "markdown",
      "metadata": {
        "id": "pmz0oMisoM6y"
      },
      "source": [
        "# Вывод графиков"
      ]
    },
    {
      "cell_type": "code",
      "metadata": {
        "id": "V6-0F_vUY9fR"
      },
      "source": [
        "def plot_02fe_01si(model_name, y_name, model):\n",
        "  for t in [20, 300, 350, 400, 450, 500, 550, 600]:\n",
        "    prediction = model.predict([[ca,0.2,0.1,t,1] for ca in [2.5, 2, 1.5, 0.75, 0.5]])\n",
        "    real = [data[[y_name]].loc[(data['Ca'] == ca) & (data['Fe'] == 0.2) & (data['Si'] == 0.1) & (data['FCR'] == 1) & (data['T'] == t)].to_numpy() for ca in [2.5, 2, 1.5, 0.75, 0.5]]\n",
        "    \n",
        "    #print(t, prediction)\n",
        "    #print(real)\n",
        "    plt.figure(figsize=(5,5))\n",
        "    plt.xlabel('Ca, %', fontsize=15)\n",
        "    plt.ylabel(y_name, fontsize=15)\n",
        "    plt.title(model_name + \" (T = \" + str(t) + \" C)\\nxCa-0.20Fe-0.10Si\")\n",
        "    #plt.plot([ca for ca in [2.5, 2, 1.5, 0.75, 0.5]],np.reshape([er for er in real], (5,)), color='green', label='actual')\n",
        "    #plt.plot([ca for ca in [2.5, 2, 1.5, 0.75, 0.5]],prediction, color='red', label='calculated')\n",
        "    plt.errorbar([ca for ca in [2.5, 2, 1.5, 0.75, 0.5]],np.reshape([er for er in real], (5,)), yerr=mean_confidence_interval(y.iloc[:,y.columns.get_loc(y_name)], confidence=0.97), color='green', label='actual')\n",
        "    plt.errorbar([ca for ca in [2.5, 2, 1.5, 0.75, 0.5]],prediction, yerr=mean_confidence_interval(prediction, confidence=0.97), color='red', label='calculated')"
      ],
      "execution_count": null,
      "outputs": []
    },
    {
      "cell_type": "code",
      "metadata": {
        "id": "HGeEPavfbBUw"
      },
      "source": [
        "def plot_075fe_025si(model_name, y_name, model):\n",
        "  for t in [20, 300, 350, 400, 450, 500, 550, 600]:\n",
        "    prediction = model.predict([[ca,0.75,0.25,t,1] for ca in [0.75, 1]])\n",
        "    real = [data[[y_name]].loc[(data['Ca'] == ca) & (data['Fe'] == 0.75) & (data['Si'] == 0.25) & (data['FCR'] == 1) & (data['T'] == t)].to_numpy() for ca in [0.75, 1]]\n",
        "    \n",
        "    #print(t, prediction)\n",
        "    #print(real)\n",
        "    plt.figure(figsize=(5,5))\n",
        "    plt.xlabel('Ca, %', fontsize=15)\n",
        "    plt.ylabel(y_name, fontsize=15)\n",
        "    plt.title(model_name + \" (T = \" + str(t) + \" C)\\nxCa-0.75Fe-0.25Si\")\n",
        "    #plt.plot([ca for ca in [0.75, 1]],np.reshape([er for er in real], (2,)), color='green', label='actual')\n",
        "    #plt.plot([ca for ca in [0.75, 1]],prediction, color='red', label='calculated')\n",
        "    plt.errorbar([ca for ca in [0.75, 1]],np.reshape([er for er in real], (2,)), yerr=mean_confidence_interval(y.iloc[:,y.columns.get_loc(y_name)], confidence=0.97), color='green', label='actual')\n",
        "    plt.errorbar([ca for ca in [0.75, 1]],prediction, yerr=mean_confidence_interval(prediction, confidence=0.97), color='red', label='calculated')"
      ],
      "execution_count": null,
      "outputs": []
    },
    {
      "cell_type": "markdown",
      "metadata": {
        "id": "UlkUFtPfNLrA"
      },
      "source": [
        "# Использованные модели\n",
        "\n",
        "### Линейная регрессия\n",
        "\n",
        "### Случайный лес\n",
        "\n",
        "### Метод k ближайших соседей\n",
        "\n",
        "### Полиномиальная регрессия"
      ]
    },
    {
      "cell_type": "code",
      "metadata": {
        "id": "RR0GBFrd3REV"
      },
      "source": [
        "models = [LinearRegression(), # метод наименьших квадратов\n",
        "\t          RandomForestRegressor(n_estimators=52, max_features ='sqrt'), # случайный лес\n",
        "\t          KNeighborsRegressor(n_neighbors=3, weights='distance'), # метод ближайших соседей\n",
        "            make_pipeline(PolynomialFeatures(degree=1, interaction_only=True),LinearRegression()),\n",
        "            make_pipeline(PolynomialFeatures(degree=2, interaction_only=True),LinearRegression()),\n",
        "            make_pipeline(PolynomialFeatures(degree=3, interaction_only=True),LinearRegression())\n",
        "\t          ]"
      ],
      "execution_count": null,
      "outputs": []
    },
    {
      "cell_type": "markdown",
      "metadata": {
        "id": "SyBGtlvqZPCh"
      },
      "source": [
        "# Справка по работе с выборками датасета\n",
        "\n",
        "**Какие колонки требуется получить из датасета:**\n",
        "```\n",
        "data[['ER']]\n",
        "```\n",
        "**Какие условия для получаемых колонок:**\n",
        "\n",
        "\n",
        "```\n",
        ".loc[   здесь условия   ]\n",
        "\n",
        "```\n",
        "\n",
        "**Условия перечисляются (в круглых скобках) и связываются '&'**\n",
        "\n",
        "**Например:**\n",
        "```\n",
        "y = data[['ER']].loc[ (data['Fe'] == 0.2) & (data['Si'] == 0.1) & (data['FCR'] == 1) & (data['T'] == 20) ]\n",
        "```\n",
        "**Запишет в переменную *y* все значения  *ER*,  которые удовлетворяют следующим условиям:**\n",
        "\n",
        "*Fe = 0.2   –*   `(data['Fe'] == 0.2)`\n",
        "\n",
        "*Si = 0.1 –* `(data['Si'] == 0.1)`\n",
        "\n",
        "*FCR = 1 –* `(data['FCR'] == 1)`\n",
        "\n",
        "*T = 20 –* `(data['T'] == 20)`\n",
        "\n"
      ]
    },
    {
      "cell_type": "code",
      "metadata": {
        "id": "-kjLZ_sjR8z0",
        "colab": {
          "base_uri": "https://localhost:8080/",
          "height": 232
        },
        "outputId": "458800e0-b0c9-45e8-a1d9-1111c9279a10"
      },
      "source": [
        "data = pd.read_csv('/content/drive/MyDrive/al-ca-fe-si.3серия.csv', index_col='Index')\n",
        "\n",
        "#scaler = preprocessing.MinMaxScaler()\n",
        "#names = data.columns[data.dtypes.apply(lambda c: np.issubdtype(c, np.number))]\n",
        "#d = scaler.fit_transform(data[names])\n",
        "#data = pd.DataFrame(d, columns=names)\n",
        "\n",
        "#X = data[['Ca', 'Fe', 'Si', 'T', 'FCR']]\n",
        "#y = data[['ER', 'HV', 'T', 'FCR']]\n",
        "#Xtrn, Xtst, Ytrn, Ytst = train_test_split(X, y, test_size=0.2)\n",
        "\n",
        "#X = data[['Ca', 'Fe', 'Si']].loc[(data['FCR'] == 2) & (data['T'] == 20)]\n",
        "#y = data[['HV', 'ER']].loc[(data['FCR'] == 2) & (data['T'] == 20)]\n",
        "\n",
        "#X = data[['Ca', 'Fe', 'Si']].loc[(data['FCR'] == 2) & (data['T'] == 450)]\n",
        "#y = data[['HV', 'ER']].loc[(data['FCR'] == 2) & (data['T'] == 450)]\n",
        "\n",
        "#Xtst = Xtst.append(Xtrn)\n",
        "#Ytst = Ytst.append(Ytrn)\n",
        "\n",
        "Xtrn = data[['Ca', 'Fe', 'Si']].loc[(data['FCR'] == 2) & (data['T'] == 20)]\n",
        "Ytrn = data[['HV', 'ER']].loc[(data['FCR'] == 2) & (data['T'] == 20)]\n",
        "\n",
        "Xtst = data[['Ca', 'Fe', 'Si']].loc[(data['FCR'] == 2) & (data['T'] == 20)]\n",
        "Ytst = data[['HV', 'ER']].loc[(data['FCR'] == 2) & (data['T'] == 20)]\n",
        "\n",
        "print(\"Размер тренировочной выборки: \\t\" + str(Xtrn.shape[0]))\n",
        "print(\"Размер тестовой выборки: \\t\" + str(Xtst.shape[0]))\n",
        "#print(\"Суммарный размер датасета: \\t\" + str(X.shape[0]))"
      ],
      "execution_count": null,
      "outputs": [
        {
          "output_type": "stream",
          "text": [
            "Размер тренировочной выборки: \t20\n",
            "Размер тестовой выборки: \t20\n"
          ],
          "name": "stdout"
        },
        {
          "output_type": "error",
          "ename": "NameError",
          "evalue": "ignored",
          "traceback": [
            "\u001b[0;31m---------------------------------------------------------------------------\u001b[0m",
            "\u001b[0;31mNameError\u001b[0m                                 Traceback (most recent call last)",
            "\u001b[0;32m<ipython-input-8-4c06d79290d1>\u001b[0m in \u001b[0;36m<module>\u001b[0;34m()\u001b[0m\n\u001b[1;32m     27\u001b[0m \u001b[0mprint\u001b[0m\u001b[0;34m(\u001b[0m\u001b[0;34m\"Размер тренировочной выборки: \\t\"\u001b[0m \u001b[0;34m+\u001b[0m \u001b[0mstr\u001b[0m\u001b[0;34m(\u001b[0m\u001b[0mXtrn\u001b[0m\u001b[0;34m.\u001b[0m\u001b[0mshape\u001b[0m\u001b[0;34m[\u001b[0m\u001b[0;36m0\u001b[0m\u001b[0;34m]\u001b[0m\u001b[0;34m)\u001b[0m\u001b[0;34m)\u001b[0m\u001b[0;34m\u001b[0m\u001b[0;34m\u001b[0m\u001b[0m\n\u001b[1;32m     28\u001b[0m \u001b[0mprint\u001b[0m\u001b[0;34m(\u001b[0m\u001b[0;34m\"Размер тестовой выборки: \\t\"\u001b[0m \u001b[0;34m+\u001b[0m \u001b[0mstr\u001b[0m\u001b[0;34m(\u001b[0m\u001b[0mXtst\u001b[0m\u001b[0;34m.\u001b[0m\u001b[0mshape\u001b[0m\u001b[0;34m[\u001b[0m\u001b[0;36m0\u001b[0m\u001b[0;34m]\u001b[0m\u001b[0;34m)\u001b[0m\u001b[0;34m)\u001b[0m\u001b[0;34m\u001b[0m\u001b[0;34m\u001b[0m\u001b[0m\n\u001b[0;32m---> 29\u001b[0;31m \u001b[0mprint\u001b[0m\u001b[0;34m(\u001b[0m\u001b[0;34m\"Суммарный размер датасета: \\t\"\u001b[0m \u001b[0;34m+\u001b[0m \u001b[0mstr\u001b[0m\u001b[0;34m(\u001b[0m\u001b[0mX\u001b[0m\u001b[0;34m.\u001b[0m\u001b[0mshape\u001b[0m\u001b[0;34m[\u001b[0m\u001b[0;36m0\u001b[0m\u001b[0;34m]\u001b[0m\u001b[0;34m)\u001b[0m\u001b[0;34m)\u001b[0m\u001b[0;34m\u001b[0m\u001b[0;34m\u001b[0m\u001b[0m\n\u001b[0m",
            "\u001b[0;31mNameError\u001b[0m: name 'X' is not defined"
          ]
        }
      ]
    },
    {
      "cell_type": "markdown",
      "metadata": {
        "id": "8VKyOjc0-xL8"
      },
      "source": [
        "## Исследовательский анализ данных"
      ]
    },
    {
      "cell_type": "code",
      "metadata": {
        "id": "iXPkwSoq-33X",
        "colab": {
          "base_uri": "https://localhost:8080/"
        },
        "outputId": "4c7591a1-d322-418d-9c0d-848f0c528915"
      },
      "source": [
        "corr = data.corr()\n",
        "print ('The Most Correlated Features with ER:'), print (corr['ER'].sort_values(ascending = False)[:10], '\\n')\n",
        "print ('The Most Uncorrelated Features with ER:'), print (corr['ER'].sort_values(ascending = False)[-5:])\n",
        "print ('The Most Correlated Features with HV:'), print (corr['HV'].sort_values(ascending = False)[:10], '\\n')\n",
        "print ('The Most Uncorrelated Features with HV:'), print (corr['HV'].sort_values(ascending = False)[-5:])"
      ],
      "execution_count": null,
      "outputs": [
        {
          "output_type": "stream",
          "text": [
            "The Most Correlated Features with ER:\n",
            "ER     1.000000\n",
            "Ca     0.490813\n",
            "HV     0.455833\n",
            "Fe     0.149669\n",
            "Si     0.031783\n",
            "T     -0.456254\n",
            "FCR   -0.535156\n",
            "Name: ER, dtype: float64 \n",
            "\n",
            "The Most Uncorrelated Features with ER:\n",
            "HV     0.455833\n",
            "Fe     0.149669\n",
            "Si     0.031783\n",
            "T     -0.456254\n",
            "FCR   -0.535156\n",
            "Name: ER, dtype: float64\n",
            "The Most Correlated Features with HV:\n",
            "HV     1.000000\n",
            "ER     0.455833\n",
            "Fe     0.185496\n",
            "Si     0.122558\n",
            "FCR    0.098368\n",
            "Ca     0.078465\n",
            "T     -0.744419\n",
            "Name: HV, dtype: float64 \n",
            "\n",
            "The Most Uncorrelated Features with HV:\n",
            "Fe     0.185496\n",
            "Si     0.122558\n",
            "FCR    0.098368\n",
            "Ca     0.078465\n",
            "T     -0.744419\n",
            "Name: HV, dtype: float64\n"
          ],
          "name": "stdout"
        },
        {
          "output_type": "execute_result",
          "data": {
            "text/plain": [
              "(None, None)"
            ]
          },
          "metadata": {
            "tags": []
          },
          "execution_count": 9
        }
      ]
    },
    {
      "cell_type": "markdown",
      "metadata": {
        "id": "eEky_nqOUFRC"
      },
      "source": [
        "# Обучение моделей"
      ]
    },
    {
      "cell_type": "code",
      "metadata": {
        "id": "IRK5EQ6K3YKk",
        "colab": {
          "base_uri": "https://localhost:8080/"
        },
        "outputId": "6a65caeb-f2d9-4635-ba1b-8f1de4d5463e"
      },
      "source": [
        "%%time\n",
        "\n",
        "TestModels = DataFrame()\n",
        "tmp = {}\n",
        "\n",
        "# Создадим цикл, который будет перебирать модели из массива models\n",
        "for model in models:\n",
        "\n",
        "  #Запишем в массив (словарь) tmp название модели\n",
        "  m = str(model)\n",
        "  tmp['Model'] = m[0:m.index('(')] # Отрежем от названия всё лишнее начиная с открывающихся скобок (все гипперпараметры)\n",
        "\n",
        "  # Переименовка заголовка полиномиальных моделей\n",
        "  if model == models[3]:\n",
        "    tmp['Model'] = \"Polynomial (deg=1)\"\n",
        "  elif model == models[4]:\n",
        "    tmp['Model'] = \"Polynomial (deg=2)\"\n",
        "  elif model == models[5]:\n",
        "    tmp['Model'] = \"Polynomial (deg=3)\"\n",
        "\n",
        "  # Создадим цикл, который будет перебирать столбцы с искомой величиной, которую будем предсказывать\n",
        "  for i in  range(Ytrn.shape[1]):\n",
        "\n",
        "    # Обучим модель на тренировочных данных Xtrn и i-й переменной из Ytrn\n",
        "    model.fit(Xtrn, Ytrn.iloc[:,i])\n",
        "\n",
        "    # Рассчитаем метрики для оценки качества модели\n",
        "    tmp['R2_%s'%str(Ytrn.columns[i])] = r2_score(Ytst.iloc[:,i], model.predict(Xtst))\n",
        "    tmp['Mean_squared_error_%s'%str(Ytrn.columns[i])] = mean_squared_error(Ytst.iloc[:,i], model.predict(Xtst))\n",
        "\n",
        "    #scores = cross_validate(model, Xtst, Ytst.iloc[:,i], cv=2,scoring=('r2', 'neg_mean_squared_error'),return_train_score=True)\n",
        "    #tmp['R2_%s'%str(Ytrn.columns[i])] = np.mean(scores['test_r2'])\n",
        "    #tmp['Mean_squared_error_%s'%str(Ytrn.columns[i])] = np.mean(scores['test_neg_mean_squared_error'])\n",
        "    #print(scores['test_r2'])\n",
        "    \n",
        "    # Выведем коэффициенты найденные после обучения полиномиальной модели 3 степени\n",
        "    if model == models[4]:\n",
        "      file_name = '/content/' + tmp['Model'] + '_' + Ytrn.columns[i] + '.xlsx'\n",
        "      # Запишем в save_data значения коэффициентов\n",
        "      save_data = model[1].coef_\n",
        "      # Запишем в save_col название коэффициентов\n",
        "      save_col = model[0].get_feature_names()\n",
        "      \n",
        "      # Создаим таблицу (dataframe), в который запишем названия и значения коэффициентов\n",
        "      dfPoly = pd.DataFrame(\n",
        "          data=[model[1].coef_], \n",
        "          columns=model[0].get_feature_names())\n",
        "      \n",
        "      # Запишем значение b0 из intercept_ модели\n",
        "      dfPoly['1'] = model[1].intercept_\n",
        "      # Переименуем колонку с единичным коэффициентом, в которую записали b0 \n",
        "      dfPoly.rename(columns={\"1\": \"b0\"})\n",
        "      # Сохраним excel файл с рассчитаной полиномиальной моделью\n",
        "      dfPoly.to_excel(file_name)\n",
        "    \n",
        "    #plot_graphs(tmp['Model'] + ' ' + str(Ytrn.columns[i]), Ytst.iloc[:,i],model.predict(Xtst))\n",
        "    #plot_02fe_01si(tmp['Model'],str(Ytrn.columns[i]), model)\n",
        "    #plot_075fe_025si(tmp['Model'],str(Ytrn.columns[i]), model)\n",
        "\n",
        "  TestModels = TestModels.append([tmp])"
      ],
      "execution_count": null,
      "outputs": [
        {
          "output_type": "stream",
          "text": [
            "CPU times: user 181 ms, sys: 0 ns, total: 181 ms\n",
            "Wall time: 184 ms\n"
          ],
          "name": "stdout"
        }
      ]
    },
    {
      "cell_type": "markdown",
      "metadata": {
        "id": "r-CbHLG9UL5l"
      },
      "source": [
        "# Построение графиков"
      ]
    },
    {
      "cell_type": "code",
      "metadata": {
        "id": "4Qh00m0X7A2E",
        "colab": {
          "base_uri": "https://localhost:8080/",
          "height": 406
        },
        "outputId": "e1b825e0-96bc-4077-c53b-749c22886adc"
      },
      "source": [
        "TestModels = TestModels.sort_values(\"Mean_squared_error_ER\")\n",
        "TestModels.set_index('Model', inplace=True)\n",
        "fig, axes = plt.subplots(ncols=2, figsize=(10,4))\n",
        "TestModels.Mean_squared_error_ER.plot(ax=axes[0], kind='bar', title='Mean_squared_error__ER')\n",
        "TestModels = TestModels.sort_values(\"Mean_squared_error_HV\")\n",
        "TestModels.Mean_squared_error_HV.plot(ax=axes[1], kind='bar', color='green', title='Mean_squared_error__HV')\n",
        "TestModels.to_excel('/content/Сравнение моделей.xlsx')"
      ],
      "execution_count": null,
      "outputs": [
        {
          "output_type": "display_data",
          "data": {
            "image/png": "[encoded data removed]",
            "text/plain": [
              "<Figure size 720x288 with 2 Axes>"
            ]
          },
          "metadata": {
            "tags": [],
            "needs_background": "light"
          }
        }
      ]
    },
    {
      "cell_type": "code",
      "metadata": {
        "colab": {
          "base_uri": "https://localhost:8080/",
          "height": 406
        },
        "id": "sCC2DQxTdNt2",
        "outputId": "fc6545a5-f134-4f6a-93a0-da40026e3835"
      },
      "source": [
        "TestModels = TestModels.sort_values(\"R2_ER\")\n",
        "#TestModels.set_index('Model', inplace=True)\n",
        "fig, axes = plt.subplots(ncols=2, figsize=(10,4))\n",
        "TestModels.R2_ER.plot(ax=axes[0], kind='bar', title='R2__ER')\n",
        "TestModels = TestModels.sort_values(\"R2_HV\")\n",
        "TestModels.R2_HV.plot(ax=axes[1], kind='bar', color='green', title='R2_HV')\n",
        "TestModels.to_excel('/content/Сравнение моделей_R2.xlsx')"
      ],
      "execution_count": null,
      "outputs": [
        {
          "output_type": "display_data",
          "data": {
            "image/png": "[encoded data removed]",
            "text/plain": [
              "<Figure size 720x288 with 2 Axes>"
            ]
          },
          "metadata": {
            "tags": [],
            "needs_background": "light"
          }
        }
      ]
    },
    {
      "cell_type": "code",
      "metadata": {
        "colab": {
          "base_uri": "https://localhost:8080/",
          "height": 235
        },
        "id": "cxD4ztBNi1eB",
        "outputId": "a33c8464-f86f-4a10-fd7f-e53dd4aebd3c"
      },
      "source": [
        "TestModels"
      ],
      "execution_count": null,
      "outputs": [
        {
          "output_type": "execute_result",
          "data": {
            "text/html": [
              "<div>\n",
              "<style scoped>\n",
              "    .dataframe tbody tr th:only-of-type {\n",
              "        vertical-align: middle;\n",
              "    }\n",
              "\n",
              "    .dataframe tbody tr th {\n",
              "        vertical-align: top;\n",
              "    }\n",
              "\n",
              "    .dataframe thead th {\n",
              "        text-align: right;\n",
              "    }\n",
              "</style>\n",
              "<table border=\"1\" class=\"dataframe\">\n",
              "  <thead>\n",
              "    <tr style=\"text-align: right;\">\n",
              "      <th></th>\n",
              "      <th>Model</th>\n",
              "      <th>R2_HV</th>\n",
              "      <th>Mean_squared_error_HV</th>\n",
              "      <th>R2_ER</th>\n",
              "      <th>Mean_squared_error_ER</th>\n",
              "    </tr>\n",
              "  </thead>\n",
              "  <tbody>\n",
              "    <tr>\n",
              "      <th>0</th>\n",
              "      <td>KNeighborsRegressor</td>\n",
              "      <td>1.000000</td>\n",
              "      <td>0.000000</td>\n",
              "      <td>1.000000</td>\n",
              "      <td>0.000000</td>\n",
              "    </tr>\n",
              "    <tr>\n",
              "      <th>0</th>\n",
              "      <td>RandomForestRegressor</td>\n",
              "      <td>0.975172</td>\n",
              "      <td>0.154757</td>\n",
              "      <td>0.977036</td>\n",
              "      <td>0.048304</td>\n",
              "    </tr>\n",
              "    <tr>\n",
              "      <th>0</th>\n",
              "      <td>Polynomial (deg=3)</td>\n",
              "      <td>0.853695</td>\n",
              "      <td>0.911940</td>\n",
              "      <td>0.990918</td>\n",
              "      <td>0.019104</td>\n",
              "    </tr>\n",
              "    <tr>\n",
              "      <th>0</th>\n",
              "      <td>Polynomial (deg=2)</td>\n",
              "      <td>0.841498</td>\n",
              "      <td>0.987971</td>\n",
              "      <td>0.990807</td>\n",
              "      <td>0.019337</td>\n",
              "    </tr>\n",
              "    <tr>\n",
              "      <th>0</th>\n",
              "      <td>LinearRegression</td>\n",
              "      <td>0.813613</td>\n",
              "      <td>1.161783</td>\n",
              "      <td>0.970802</td>\n",
              "      <td>0.061417</td>\n",
              "    </tr>\n",
              "    <tr>\n",
              "      <th>0</th>\n",
              "      <td>Polynomial (deg=1)</td>\n",
              "      <td>0.813613</td>\n",
              "      <td>1.161783</td>\n",
              "      <td>0.970802</td>\n",
              "      <td>0.061417</td>\n",
              "    </tr>\n",
              "  </tbody>\n",
              "</table>\n",
              "</div>"
            ],
            "text/plain": [
              "                   Model     R2_HV  ...     R2_ER  Mean_squared_error_ER\n",
              "0    KNeighborsRegressor  1.000000  ...  1.000000               0.000000\n",
              "0  RandomForestRegressor  0.975172  ...  0.977036               0.048304\n",
              "0     Polynomial (deg=3)  0.853695  ...  0.990918               0.019104\n",
              "0     Polynomial (deg=2)  0.841498  ...  0.990807               0.019337\n",
              "0       LinearRegression  0.813613  ...  0.970802               0.061417\n",
              "0     Polynomial (deg=1)  0.813613  ...  0.970802               0.061417\n",
              "\n",
              "[6 rows x 5 columns]"
            ]
          },
          "metadata": {
            "tags": []
          },
          "execution_count": 15
        }
      ]
    }
  ]
}